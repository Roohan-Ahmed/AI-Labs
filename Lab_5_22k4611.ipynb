{
  "nbformat": 4,
  "nbformat_minor": 0,
  "metadata": {
    "colab": {
      "provenance": []
    },
    "kernelspec": {
      "name": "python3",
      "display_name": "Python 3"
    },
    "language_info": {
      "name": "python"
    }
  },
  "cells": [
    {
      "cell_type": "code",
      "execution_count": 4,
      "metadata": {
        "colab": {
          "base_uri": "https://localhost:8080/"
        },
        "id": "8wzzkl4vNMZK",
        "outputId": "068b2471-8138-4aa8-997a-02878304def0"
      },
      "outputs": [
        {
          "output_type": "stream",
          "name": "stdout",
          "text": [
            "Best Move Sequence: [1, 2, 6, 13]\n",
            "Evaluation Score: 94\n"
          ]
        }
      ],
      "source": [
        "#Task 1\n",
        "import random\n",
        "\n",
        "def generate_moves(state):\n",
        "    return [state * 2 + i for i in range(3)]\n",
        "\n",
        "def evaluate_state(state):\n",
        "    return random.randint(1, 100)\n",
        "\n",
        "def beam_search_game(start_state, beam_width=2, depth_limit=2):\n",
        "    beam = [(0, [start_state])]\n",
        "\n",
        "    for _ in range(depth_limit):\n",
        "        candidates = []\n",
        "        for eval_score, path in beam:\n",
        "            current_state = path[-1]\n",
        "            next_states = generate_moves(current_state)\n",
        "            for next_state in next_states:\n",
        "                score = evaluate_state(next_state)\n",
        "                candidates.append((score, path + [next_state]))\n",
        "\n",
        "        candidates.sort(key=lambda x: -x[0])\n",
        "        beam = candidates[:beam_width]\n",
        "\n",
        "    best_score, best_path = beam[0]\n",
        "    return best_path, best_score\n",
        "\n",
        "\n",
        "start = 1\n",
        "beam_width = 3\n",
        "depth = 3\n",
        "\n",
        "path, score = beam_search_game(start_state=start, beam_width=beam_width, depth_limit=depth)\n",
        "print(\"Best Move Sequence:\", path)\n",
        "print(\"Evaluation Score:\", score)\n"
      ]
    },
    {
      "cell_type": "code",
      "source": [
        "#Task 2\n",
        "import random\n",
        "import math\n",
        "\n",
        "def calculate_total_distance(route, points):\n",
        "    distance = 0\n",
        "    for i in range(len(route) - 1):\n",
        "        x1, y1 = points[route[i]]\n",
        "        x2, y2 = points[route[i + 1]]\n",
        "        distance += math.sqrt((x2 - x1)**2 + (y2 - y1)**2)\n",
        "    x1, y1 = points[route[-1]]\n",
        "    x2, y2 = points[route[0]]\n",
        "    distance += math.sqrt((x2 - x1)**2 + (y2 - y1)**2)\n",
        "    return distance\n",
        "\n",
        "def get_neighbors(route):\n",
        "    neighbors = []\n",
        "    n = len(route)\n",
        "    for i in range(n):\n",
        "        for j in range(i + 1, n):\n",
        "            neighbor = list(route)\n",
        "            neighbor[i], neighbor[j] = neighbor[j], neighbor[i]\n",
        "            neighbors.append(neighbor)\n",
        "    return neighbors\n",
        "\n",
        "def hill_climbing_tsp(points):\n",
        "    n = len(points)\n",
        "    current_route = list(range(n))\n",
        "    random.shuffle(current_route)\n",
        "    current_distance = calculate_total_distance(current_route, points)\n",
        "\n",
        "    while True:\n",
        "        neighbors = get_neighbors(current_route)\n",
        "        next_route = None\n",
        "        next_distance = current_distance\n",
        "\n",
        "        for neighbor in neighbors:\n",
        "            distance = calculate_total_distance(neighbor, points)\n",
        "            if distance < next_distance:\n",
        "                next_route = neighbor\n",
        "                next_distance = distance\n",
        "\n",
        "        if next_distance >= current_distance:\n",
        "            break\n",
        "        current_route = next_route\n",
        "        current_distance = next_distance\n",
        "\n",
        "    return current_route, current_distance\n",
        "\n",
        "points = [(0, 0), (1, 3), (4, 3), (6, 1), (3, 0)]\n",
        "\n",
        "route, distance = hill_climbing_tsp(points)\n",
        "\n",
        "print(\"Optimized Route (by index):\", route)\n",
        "print(\"Total Distance Covered:\", distance)\n"
      ],
      "metadata": {
        "colab": {
          "base_uri": "https://localhost:8080/"
        },
        "id": "i5yjJM8MOVc_",
        "outputId": "08a3229c-6f9e-4a0d-b654-38c08c6be632"
      },
      "execution_count": 24,
      "outputs": [
        {
          "output_type": "stream",
          "name": "stdout",
          "text": [
            "Optimized Route (by index): [2, 3, 4, 0, 1]\n",
            "Total Distance Covered: 15.15298244508295\n"
          ]
        }
      ]
    },
    {
      "cell_type": "code",
      "source": [
        "#Task 3\n",
        "import random\n",
        "import math\n",
        "\n",
        "def calculate_distance(route, cities):\n",
        "    distance = 0\n",
        "    for i in range(len(route)):\n",
        "        x1, y1 = cities[route[i]]\n",
        "        x2, y2 = cities[route[(i + 1) % len(route)]]\n",
        "        distance += math.sqrt((x2 - x1)**2 + (y2 - y1)**2)\n",
        "    return distance\n",
        "\n",
        "def generate_population(cities, size):\n",
        "    population = []\n",
        "    for _ in range(size):\n",
        "        route = list(range(len(cities)))\n",
        "        random.shuffle(route)\n",
        "        population.append(route)\n",
        "    return population\n",
        "\n",
        "def select_parents(population, cities):\n",
        "    a = random.choice(population)\n",
        "    b = random.choice(population)\n",
        "    return a if calculate_distance(a, cities) < calculate_distance(b, cities) else b\n",
        "\n",
        "def crossover(parent1, parent2):\n",
        "    size = len(parent1)\n",
        "    start = random.randint(0, size - 2)\n",
        "    end = random.randint(start + 1, size - 1)\n",
        "    child = [None] * size\n",
        "    child[start:end + 1] = parent1[start:end + 1]\n",
        "\n",
        "    fill_pos = 0\n",
        "    for city in parent2:\n",
        "        if city not in child:\n",
        "            while child[fill_pos] is not None:\n",
        "                fill_pos += 1\n",
        "            child[fill_pos] = city\n",
        "    return child\n",
        "\n",
        "def mutate(route, mutation_rate=0.1):\n",
        "    for i in range(len(route)):\n",
        "        if random.random() < mutation_rate:\n",
        "            j = random.randint(0, len(route) - 1)\n",
        "            route[i], route[j] = route[j], route[i]\n",
        "    return route\n",
        "\n",
        "def genetic_algorithm(cities, population_size=100, generations=500):\n",
        "    population = generate_population(cities, population_size)\n",
        "\n",
        "    for gen in range(generations):\n",
        "        new_population = []\n",
        "        for _ in range(population_size):\n",
        "            parent1 = select_parents(population, cities)\n",
        "            parent2 = select_parents(population, cities)\n",
        "            child = crossover(parent1, parent2)\n",
        "            child = mutate(child)\n",
        "            new_population.append(child)\n",
        "        population = new_population\n",
        "\n",
        "    best_route = min(population, key=lambda r: calculate_distance(r, cities))\n",
        "    best_distance = calculate_distance(best_route, cities)\n",
        "    return best_route, best_distance\n",
        "\n",
        "cities = [\n",
        "    (0, 0), (2, 3), (5, 2), (6, 6), (8, 3),\n",
        "    (7, 0), (3, 7), (1, 5), (4, 4), (6, 2)\n",
        "]\n",
        "\n",
        "best_route, best_distance = genetic_algorithm(cities)\n",
        "\n",
        "print(\"Best Route (by city index):\", best_route)\n",
        "print(\"Total Distance:\", best_distance)\n"
      ],
      "metadata": {
        "colab": {
          "base_uri": "https://localhost:8080/"
        },
        "id": "i588IfRbPTme",
        "outputId": "745092ae-e711-4bfd-cbae-9f86fd7d78d5"
      },
      "execution_count": 28,
      "outputs": [
        {
          "output_type": "stream",
          "name": "stdout",
          "text": [
            "Best Route (by city index): [2, 3, 6, 7, 1, 0, 5, 4, 8, 9]\n",
            "Total Distance: 34.06924007402824\n"
          ]
        }
      ]
    }
  ]
}